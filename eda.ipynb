{
 "nbformat": 4,
 "nbformat_minor": 2,
 "metadata": {
  "language_info": {
   "name": "python",
   "codemirror_mode": {
    "name": "ipython",
    "version": 3
   },
   "version": "3.7.3-final"
  },
  "orig_nbformat": 2,
  "file_extension": ".py",
  "mimetype": "text/x-python",
  "name": "python",
  "npconvert_exporter": "python",
  "pygments_lexer": "ipython3",
  "version": 3,
  "kernelspec": {
   "name": "python37364bitbaseconda64cd2d4475b7431fad90d3a78fe97c82",
   "display_name": "Python 3.7.3 64-bit ('base': conda)"
  }
 },
 "cells": [
  {
   "cell_type": "code",
   "execution_count": 19,
   "metadata": {},
   "outputs": [],
   "source": [
    "deaths_url = 'csse_covid_19_data\\csse_covid_19_time_series\\\\time_series_19-covid-Deaths.csv'\n",
    "recovered_url = 'csse_covid_19_data\\csse_covid_19_time_series\\\\time_series_19-covid-Recovered.csv'\n",
    "confirmed_url = 'csse_covid_19_data\\csse_covid_19_time_series\\\\time_series_19-covid-Confirmed.csv'"
   ]
  },
  {
   "cell_type": "code",
   "execution_count": 20,
   "metadata": {},
   "outputs": [],
   "source": [
    "import pandas as pd\n",
    "d = pd.read_csv(deaths_url)"
   ]
  },
  {
   "cell_type": "code",
   "execution_count": 24,
   "metadata": {},
   "outputs": [
    {
     "data": {
      "text/html": "<div>\n<style scoped>\n    .dataframe tbody tr th:only-of-type {\n        vertical-align: middle;\n    }\n\n    .dataframe tbody tr th {\n        vertical-align: top;\n    }\n\n    .dataframe thead th {\n        text-align: right;\n    }\n</style>\n<table border=\"1\" class=\"dataframe\">\n  <thead>\n    <tr style=\"text-align: right;\">\n      <th></th>\n      <th>Province/State</th>\n      <th>Country/Region</th>\n      <th>Lat</th>\n      <th>Long</th>\n      <th>1/22/20</th>\n      <th>1/23/20</th>\n      <th>1/24/20</th>\n      <th>1/25/20</th>\n      <th>1/26/20</th>\n      <th>1/27/20</th>\n      <th>...</th>\n      <th>3/8/20</th>\n      <th>3/9/20</th>\n      <th>3/10/20</th>\n      <th>3/11/20</th>\n      <th>3/12/20</th>\n      <th>3/13/20</th>\n      <th>3/14/20</th>\n      <th>3/15/20</th>\n      <th>3/16/20</th>\n      <th>3/17/20</th>\n    </tr>\n  </thead>\n  <tbody>\n    <tr>\n      <th>0</th>\n      <td>NaN</td>\n      <td>Thailand</td>\n      <td>15.0000</td>\n      <td>101.0000</td>\n      <td>0</td>\n      <td>0</td>\n      <td>0</td>\n      <td>0</td>\n      <td>0</td>\n      <td>0</td>\n      <td>...</td>\n      <td>1</td>\n      <td>1</td>\n      <td>1</td>\n      <td>1</td>\n      <td>1</td>\n      <td>1</td>\n      <td>1</td>\n      <td>1</td>\n      <td>1</td>\n      <td>1</td>\n    </tr>\n    <tr>\n      <th>1</th>\n      <td>NaN</td>\n      <td>Japan</td>\n      <td>36.0000</td>\n      <td>138.0000</td>\n      <td>0</td>\n      <td>0</td>\n      <td>0</td>\n      <td>0</td>\n      <td>0</td>\n      <td>0</td>\n      <td>...</td>\n      <td>6</td>\n      <td>10</td>\n      <td>10</td>\n      <td>15</td>\n      <td>16</td>\n      <td>19</td>\n      <td>22</td>\n      <td>22</td>\n      <td>27</td>\n      <td>29</td>\n    </tr>\n    <tr>\n      <th>2</th>\n      <td>NaN</td>\n      <td>Singapore</td>\n      <td>1.2833</td>\n      <td>103.8333</td>\n      <td>0</td>\n      <td>0</td>\n      <td>0</td>\n      <td>0</td>\n      <td>0</td>\n      <td>0</td>\n      <td>...</td>\n      <td>0</td>\n      <td>0</td>\n      <td>0</td>\n      <td>0</td>\n      <td>0</td>\n      <td>0</td>\n      <td>0</td>\n      <td>0</td>\n      <td>0</td>\n      <td>0</td>\n    </tr>\n    <tr>\n      <th>3</th>\n      <td>NaN</td>\n      <td>Nepal</td>\n      <td>28.1667</td>\n      <td>84.2500</td>\n      <td>0</td>\n      <td>0</td>\n      <td>0</td>\n      <td>0</td>\n      <td>0</td>\n      <td>0</td>\n      <td>...</td>\n      <td>0</td>\n      <td>0</td>\n      <td>0</td>\n      <td>0</td>\n      <td>0</td>\n      <td>0</td>\n      <td>0</td>\n      <td>0</td>\n      <td>0</td>\n      <td>0</td>\n    </tr>\n    <tr>\n      <th>4</th>\n      <td>NaN</td>\n      <td>Malaysia</td>\n      <td>2.5000</td>\n      <td>112.5000</td>\n      <td>0</td>\n      <td>0</td>\n      <td>0</td>\n      <td>0</td>\n      <td>0</td>\n      <td>0</td>\n      <td>...</td>\n      <td>0</td>\n      <td>0</td>\n      <td>0</td>\n      <td>0</td>\n      <td>0</td>\n      <td>0</td>\n      <td>0</td>\n      <td>0</td>\n      <td>0</td>\n      <td>2</td>\n    </tr>\n  </tbody>\n</table>\n<p>5 rows × 60 columns</p>\n</div>",
      "text/plain": "  Province/State Country/Region      Lat      Long  1/22/20  1/23/20  1/24/20  \\\n0            NaN       Thailand  15.0000  101.0000        0        0        0   \n1            NaN          Japan  36.0000  138.0000        0        0        0   \n2            NaN      Singapore   1.2833  103.8333        0        0        0   \n3            NaN          Nepal  28.1667   84.2500        0        0        0   \n4            NaN       Malaysia   2.5000  112.5000        0        0        0   \n\n   1/25/20  1/26/20  1/27/20  ...  3/8/20  3/9/20  3/10/20  3/11/20  3/12/20  \\\n0        0        0        0  ...       1       1        1        1        1   \n1        0        0        0  ...       6      10       10       15       16   \n2        0        0        0  ...       0       0        0        0        0   \n3        0        0        0  ...       0       0        0        0        0   \n4        0        0        0  ...       0       0        0        0        0   \n\n   3/13/20  3/14/20  3/15/20  3/16/20  3/17/20  \n0        1        1        1        1        1  \n1       19       22       22       27       29  \n2        0        0        0        0        0  \n3        0        0        0        0        0  \n4        0        0        0        0        2  \n\n[5 rows x 60 columns]"
     },
     "execution_count": 24,
     "metadata": {},
     "output_type": "execute_result"
    }
   ],
   "source": [
    "d.head()"
   ]
  },
  {
   "cell_type": "code",
   "execution_count": 22,
   "metadata": {},
   "outputs": [
    {
     "data": {
      "text/html": "<div>\n<style scoped>\n    .dataframe tbody tr th:only-of-type {\n        vertical-align: middle;\n    }\n\n    .dataframe tbody tr th {\n        vertical-align: top;\n    }\n\n    .dataframe thead th {\n        text-align: right;\n    }\n</style>\n<table border=\"1\" class=\"dataframe\">\n  <thead>\n    <tr style=\"text-align: right;\">\n      <th></th>\n      <th>Province/State</th>\n      <th>Country/Region</th>\n      <th>Lat</th>\n      <th>Long</th>\n      <th>1/22/20</th>\n      <th>1/23/20</th>\n      <th>1/24/20</th>\n      <th>1/25/20</th>\n      <th>1/26/20</th>\n      <th>1/27/20</th>\n      <th>...</th>\n      <th>3/8/20</th>\n      <th>3/9/20</th>\n      <th>3/10/20</th>\n      <th>3/11/20</th>\n      <th>3/12/20</th>\n      <th>3/13/20</th>\n      <th>3/14/20</th>\n      <th>3/15/20</th>\n      <th>3/16/20</th>\n      <th>3/17/20</th>\n    </tr>\n  </thead>\n  <tbody>\n    <tr>\n      <th>443</th>\n      <td>Netherlands</td>\n      <td>Netherlands</td>\n      <td>52.1326</td>\n      <td>5.2913</td>\n      <td>0</td>\n      <td>0</td>\n      <td>0</td>\n      <td>0</td>\n      <td>0</td>\n      <td>0</td>\n      <td>...</td>\n      <td>3</td>\n      <td>3</td>\n      <td>4</td>\n      <td>5</td>\n      <td>5</td>\n      <td>10</td>\n      <td>12</td>\n      <td>20</td>\n      <td>24</td>\n      <td>43</td>\n    </tr>\n    <tr>\n      <th>449</th>\n      <td>Curacao</td>\n      <td>Netherlands</td>\n      <td>12.1696</td>\n      <td>-68.9900</td>\n      <td>0</td>\n      <td>0</td>\n      <td>0</td>\n      <td>0</td>\n      <td>0</td>\n      <td>0</td>\n      <td>...</td>\n      <td>0</td>\n      <td>0</td>\n      <td>0</td>\n      <td>0</td>\n      <td>0</td>\n      <td>0</td>\n      <td>0</td>\n      <td>0</td>\n      <td>0</td>\n      <td>0</td>\n    </tr>\n  </tbody>\n</table>\n<p>2 rows × 60 columns</p>\n</div>",
      "text/plain": "    Province/State Country/Region      Lat     Long  1/22/20  1/23/20  \\\n443    Netherlands    Netherlands  52.1326   5.2913        0        0   \n449        Curacao    Netherlands  12.1696 -68.9900        0        0   \n\n     1/24/20  1/25/20  1/26/20  1/27/20  ...  3/8/20  3/9/20  3/10/20  \\\n443        0        0        0        0  ...       3       3        4   \n449        0        0        0        0  ...       0       0        0   \n\n     3/11/20  3/12/20  3/13/20  3/14/20  3/15/20  3/16/20  3/17/20  \n443        5        5       10       12       20       24       43  \n449        0        0        0        0        0        0        0  \n\n[2 rows x 60 columns]"
     },
     "execution_count": 22,
     "metadata": {},
     "output_type": "execute_result"
    }
   ],
   "source": [
    "d[d['Country/Region']=='Netherlands']"
   ]
  },
  {
   "cell_type": "code",
   "execution_count": null,
   "metadata": {},
   "outputs": [],
   "source": []
  }
 ]
}